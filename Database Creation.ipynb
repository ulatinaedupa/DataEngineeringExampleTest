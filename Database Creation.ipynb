{
 "cells": [
  {
   "cell_type": "markdown",
   "id": "4e1ee54c",
   "metadata": {},
   "source": [
    "# Pandas Data Generation, Database Creation and Dump\n",
    "\n",
    "We will use Faker, a python library for synthetic data generation to create the Customers, Logins and f_amount tables and finally dump to a single database using SQLite3.  If you want to install faker do a pip install faker uncommenting the following row"
   ]
  },
  {
   "cell_type": "code",
   "execution_count": 1,
   "id": "90bf0e0f",
   "metadata": {},
   "outputs": [],
   "source": [
    "#pip install faker"
   ]
  },
  {
   "cell_type": "markdown",
   "id": "6a6ff535",
   "metadata": {},
   "source": [
    "### I - Create the dataframes"
   ]
  },
  {
   "cell_type": "code",
   "execution_count": 2,
   "id": "11c5ac47",
   "metadata": {},
   "outputs": [],
   "source": [
    "from faker import Faker\n",
    "from itertools import repeat\n",
    "import pandas as pd\n",
    "import numpy as np\n",
    "import random\n",
    "fake = Faker()"
   ]
  },
  {
   "cell_type": "markdown",
   "id": "12f02090",
   "metadata": {},
   "source": [
    "#### Creation of the Customers Table\n",
    "\n",
    "The customers table has the cid (client id), firt name, last name, date and email columns"
   ]
  },
  {
   "cell_type": "code",
   "execution_count": 3,
   "id": "6d393778",
   "metadata": {},
   "outputs": [],
   "source": [
    "data = []\n",
    "for cid in random.sample(range(10000), 1000):\n",
    "    first_name, last_name = fake.first_name(), fake.last_name()\n",
    "    dotcom = fake.ascii_company_email().split('@')[1]\n",
    "    email = f'{first_name}.{last_name}@{dotcom}'\n",
    "    date = fake.date()\n",
    "    data.append([cid, date,first_name, last_name, email])"
   ]
  },
  {
   "cell_type": "code",
   "execution_count": 4,
   "id": "2c88ae2c",
   "metadata": {},
   "outputs": [
    {
     "data": {
      "text/html": [
       "<div>\n",
       "<style scoped>\n",
       "    .dataframe tbody tr th:only-of-type {\n",
       "        vertical-align: middle;\n",
       "    }\n",
       "\n",
       "    .dataframe tbody tr th {\n",
       "        vertical-align: top;\n",
       "    }\n",
       "\n",
       "    .dataframe thead th {\n",
       "        text-align: right;\n",
       "    }\n",
       "</style>\n",
       "<table border=\"1\" class=\"dataframe\">\n",
       "  <thead>\n",
       "    <tr style=\"text-align: right;\">\n",
       "      <th></th>\n",
       "      <th>cid</th>\n",
       "      <th>date</th>\n",
       "      <th>first_name</th>\n",
       "      <th>last_name</th>\n",
       "      <th>email</th>\n",
       "    </tr>\n",
       "  </thead>\n",
       "  <tbody>\n",
       "    <tr>\n",
       "      <th>0</th>\n",
       "      <td>127</td>\n",
       "      <td>1986-03-15</td>\n",
       "      <td>Erik</td>\n",
       "      <td>Foster</td>\n",
       "      <td>Erik.Foster@abbott.com</td>\n",
       "    </tr>\n",
       "    <tr>\n",
       "      <th>1</th>\n",
       "      <td>6669</td>\n",
       "      <td>1979-04-22</td>\n",
       "      <td>Robert</td>\n",
       "      <td>Hall</td>\n",
       "      <td>Robert.Hall@doyle.com</td>\n",
       "    </tr>\n",
       "    <tr>\n",
       "      <th>2</th>\n",
       "      <td>405</td>\n",
       "      <td>2008-04-29</td>\n",
       "      <td>Melissa</td>\n",
       "      <td>Manning</td>\n",
       "      <td>Melissa.Manning@chung.biz</td>\n",
       "    </tr>\n",
       "    <tr>\n",
       "      <th>3</th>\n",
       "      <td>3745</td>\n",
       "      <td>1996-09-20</td>\n",
       "      <td>Christine</td>\n",
       "      <td>Reed</td>\n",
       "      <td>Christine.Reed@nelson.com</td>\n",
       "    </tr>\n",
       "    <tr>\n",
       "      <th>4</th>\n",
       "      <td>6436</td>\n",
       "      <td>1991-03-20</td>\n",
       "      <td>Brittany</td>\n",
       "      <td>Hurley</td>\n",
       "      <td>Brittany.Hurley@oliver-turner.biz</td>\n",
       "    </tr>\n",
       "  </tbody>\n",
       "</table>\n",
       "</div>"
      ],
      "text/plain": [
       "    cid        date first_name last_name                              email\n",
       "0   127  1986-03-15       Erik    Foster             Erik.Foster@abbott.com\n",
       "1  6669  1979-04-22     Robert      Hall              Robert.Hall@doyle.com\n",
       "2   405  2008-04-29    Melissa   Manning          Melissa.Manning@chung.biz\n",
       "3  3745  1996-09-20  Christine      Reed          Christine.Reed@nelson.com\n",
       "4  6436  1991-03-20   Brittany    Hurley  Brittany.Hurley@oliver-turner.biz"
      ]
     },
     "execution_count": 4,
     "metadata": {},
     "output_type": "execute_result"
    }
   ],
   "source": [
    "customers = pd.DataFrame(data, columns=['cid', 'date', 'first_name', 'last_name', 'email'])\n",
    "customers.head()"
   ]
  },
  {
   "cell_type": "markdown",
   "id": "89b2fdcd",
   "metadata": {},
   "source": [
    "#### Creation of the Logins Table\n",
    "\n",
    "The logins table has the cid (client id), and date columns. The date represents the last date of login"
   ]
  },
  {
   "cell_type": "code",
   "execution_count": 5,
   "id": "ae478a70",
   "metadata": {},
   "outputs": [],
   "source": [
    "data = []\n",
    "index = []\n",
    "for _ in range(10000):\n",
    "    login_date = fake.date()\n",
    "    cid = random.randint(1, 10000)\n",
    "    data.append([cid, login_date])"
   ]
  },
  {
   "cell_type": "code",
   "execution_count": 6,
   "id": "f521a831",
   "metadata": {},
   "outputs": [
    {
     "data": {
      "text/html": [
       "<div>\n",
       "<style scoped>\n",
       "    .dataframe tbody tr th:only-of-type {\n",
       "        vertical-align: middle;\n",
       "    }\n",
       "\n",
       "    .dataframe tbody tr th {\n",
       "        vertical-align: top;\n",
       "    }\n",
       "\n",
       "    .dataframe thead th {\n",
       "        text-align: right;\n",
       "    }\n",
       "</style>\n",
       "<table border=\"1\" class=\"dataframe\">\n",
       "  <thead>\n",
       "    <tr style=\"text-align: right;\">\n",
       "      <th></th>\n",
       "      <th>cid</th>\n",
       "      <th>date</th>\n",
       "    </tr>\n",
       "  </thead>\n",
       "  <tbody>\n",
       "    <tr>\n",
       "      <th>0</th>\n",
       "      <td>9274</td>\n",
       "      <td>1992-01-30</td>\n",
       "    </tr>\n",
       "    <tr>\n",
       "      <th>1</th>\n",
       "      <td>5075</td>\n",
       "      <td>2009-11-14</td>\n",
       "    </tr>\n",
       "    <tr>\n",
       "      <th>2</th>\n",
       "      <td>13</td>\n",
       "      <td>1988-06-19</td>\n",
       "    </tr>\n",
       "    <tr>\n",
       "      <th>3</th>\n",
       "      <td>930</td>\n",
       "      <td>1973-05-02</td>\n",
       "    </tr>\n",
       "    <tr>\n",
       "      <th>4</th>\n",
       "      <td>1438</td>\n",
       "      <td>1983-05-03</td>\n",
       "    </tr>\n",
       "  </tbody>\n",
       "</table>\n",
       "</div>"
      ],
      "text/plain": [
       "    cid        date\n",
       "0  9274  1992-01-30\n",
       "1  5075  2009-11-14\n",
       "2    13  1988-06-19\n",
       "3   930  1973-05-02\n",
       "4  1438  1983-05-03"
      ]
     },
     "execution_count": 6,
     "metadata": {},
     "output_type": "execute_result"
    }
   ],
   "source": [
    "logins = pd.DataFrame(data, columns=['cid', 'date'])\n",
    "logins.head()"
   ]
  },
  {
   "cell_type": "markdown",
   "id": "5c51b46f",
   "metadata": {},
   "source": [
    "#### Creation of the f_amount Table\n",
    "\n",
    "The logins table has the cid (client id), date of the transaction, amount of the transaction and the source company of transaction"
   ]
  },
  {
   "cell_type": "code",
   "execution_count": 7,
   "id": "7b3d2813",
   "metadata": {},
   "outputs": [],
   "source": [
    "data = []\n",
    "for cid in random.sample(range(10000), 5000):\n",
    "    date = fake.date()\n",
    "    amount = np.random.random()*random.randint(40, 100000)\n",
    "    source = fake.company()\n",
    "    data.append([cid, date, np.round(amount, 2), source])"
   ]
  },
  {
   "cell_type": "code",
   "execution_count": 8,
   "id": "3d2da97e",
   "metadata": {
    "scrolled": false
   },
   "outputs": [
    {
     "data": {
      "text/html": [
       "<div>\n",
       "<style scoped>\n",
       "    .dataframe tbody tr th:only-of-type {\n",
       "        vertical-align: middle;\n",
       "    }\n",
       "\n",
       "    .dataframe tbody tr th {\n",
       "        vertical-align: top;\n",
       "    }\n",
       "\n",
       "    .dataframe thead th {\n",
       "        text-align: right;\n",
       "    }\n",
       "</style>\n",
       "<table border=\"1\" class=\"dataframe\">\n",
       "  <thead>\n",
       "    <tr style=\"text-align: right;\">\n",
       "      <th></th>\n",
       "      <th>cid</th>\n",
       "      <th>date</th>\n",
       "      <th>amount</th>\n",
       "      <th>source</th>\n",
       "    </tr>\n",
       "  </thead>\n",
       "  <tbody>\n",
       "    <tr>\n",
       "      <th>0</th>\n",
       "      <td>3057</td>\n",
       "      <td>1972-07-06</td>\n",
       "      <td>16054.20</td>\n",
       "      <td>Gonzalez LLC</td>\n",
       "    </tr>\n",
       "    <tr>\n",
       "      <th>1</th>\n",
       "      <td>2744</td>\n",
       "      <td>1999-01-29</td>\n",
       "      <td>48105.86</td>\n",
       "      <td>Carter, Klein and Jackson</td>\n",
       "    </tr>\n",
       "    <tr>\n",
       "      <th>2</th>\n",
       "      <td>4230</td>\n",
       "      <td>1991-03-03</td>\n",
       "      <td>50290.17</td>\n",
       "      <td>Willis-Perez</td>\n",
       "    </tr>\n",
       "    <tr>\n",
       "      <th>3</th>\n",
       "      <td>2072</td>\n",
       "      <td>1991-03-20</td>\n",
       "      <td>9993.05</td>\n",
       "      <td>Nelson, Thomas and Townsend</td>\n",
       "    </tr>\n",
       "    <tr>\n",
       "      <th>4</th>\n",
       "      <td>3599</td>\n",
       "      <td>2016-05-10</td>\n",
       "      <td>2894.98</td>\n",
       "      <td>Oconnor Group</td>\n",
       "    </tr>\n",
       "  </tbody>\n",
       "</table>\n",
       "</div>"
      ],
      "text/plain": [
       "    cid        date    amount                       source\n",
       "0  3057  1972-07-06  16054.20                 Gonzalez LLC\n",
       "1  2744  1999-01-29  48105.86    Carter, Klein and Jackson\n",
       "2  4230  1991-03-03  50290.17                 Willis-Perez\n",
       "3  2072  1991-03-20   9993.05  Nelson, Thomas and Townsend\n",
       "4  3599  2016-05-10   2894.98                Oconnor Group"
      ]
     },
     "execution_count": 8,
     "metadata": {},
     "output_type": "execute_result"
    }
   ],
   "source": [
    "f_amount = pd.DataFrame(data, columns=['cid', 'date', 'amount', 'source'])\n",
    "f_amount.head()"
   ]
  },
  {
   "cell_type": "markdown",
   "id": "7bbdfbee",
   "metadata": {},
   "source": [
    "### II - Creation of the sqlite3 database\n",
    "\n",
    "Below we will create a sqlite3 database and dump all the values into the tables."
   ]
  },
  {
   "cell_type": "markdown",
   "id": "e81b5bfb",
   "metadata": {},
   "source": [
    "#### Create an sqlite3 table"
   ]
  },
  {
   "cell_type": "code",
   "execution_count": 9,
   "id": "90af14d2",
   "metadata": {},
   "outputs": [],
   "source": [
    "import sqlite3\n",
    "\n",
    "connection = sqlite3.connect('excercise.db')"
   ]
  },
  {
   "cell_type": "code",
   "execution_count": 10,
   "id": "ce9dd02a",
   "metadata": {},
   "outputs": [],
   "source": [
    "cursor = connection.cursor()"
   ]
  },
  {
   "cell_type": "markdown",
   "id": "1816c3da",
   "metadata": {},
   "source": [
    "#### create 3 tables"
   ]
  },
  {
   "cell_type": "code",
   "execution_count": 11,
   "id": "53c7ebbf",
   "metadata": {},
   "outputs": [
    {
     "data": {
      "text/plain": [
       "<sqlite3.Cursor at 0x233e3f3c420>"
      ]
     },
     "execution_count": 11,
     "metadata": {},
     "output_type": "execute_result"
    }
   ],
   "source": [
    "cursor.execute('''CREATE TABLE IF NOT EXISTS Customers\n",
    "              (cid INT, date DATE, first_name TEXT, last_name TEXT, email TEXT )''')\n",
    "\n",
    "cursor.execute('''CREATE TABLE IF NOT EXISTS Logins (cid INT, date DATE)''')\n",
    "\n",
    "cursor.execute('''CREATE TABLE IF NOT EXISTS f_amount (cid INT, date DATE, amount FLOAT, source TEXT)''')"
   ]
  },
  {
   "cell_type": "markdown",
   "id": "e8c70578",
   "metadata": {},
   "source": [
    "#### Dump the pandas dataframes to the respective tables"
   ]
  },
  {
   "cell_type": "code",
   "execution_count": 12,
   "id": "9af3049d",
   "metadata": {},
   "outputs": [],
   "source": [
    "for _, values in customers.iterrows():\n",
    "        sql_statement = '''INSERT INTO Customers (cid, date, first_name, last_name, email)  VALUES(?, ?, ?, ?, ?)''' \n",
    "        data_tuple = tuple(values)\n",
    "        cursor.execute(sql_statement, data_tuple)\n",
    "        \n",
    "for _, values in logins.iterrows():\n",
    "        sql_statement = '''INSERT INTO Logins (cid, date)  VALUES(?, ?)'''\n",
    "        data_tuple = tuple(values)\n",
    "        cursor.execute(sql_statement, data_tuple)\n",
    "        \n",
    "        \n",
    "for _, values in f_amount.iterrows():\n",
    "        sql_statement = '''INSERT INTO f_amount (cid, date, amount, source) VALUES(?, ?, ?, ?)'''\n",
    "        data_tuple = tuple(values)\n",
    "        cursor.execute(sql_statement, data_tuple)"
   ]
  },
  {
   "cell_type": "markdown",
   "id": "266bc656",
   "metadata": {},
   "source": [
    "#### Commit to save changes and close connection"
   ]
  },
  {
   "cell_type": "code",
   "execution_count": 13,
   "id": "2027db13",
   "metadata": {},
   "outputs": [],
   "source": [
    "connection.commit()\n",
    "connection.close()"
   ]
  }
 ],
 "metadata": {
  "kernelspec": {
   "display_name": "Python 3",
   "language": "python",
   "name": "python3"
  },
  "language_info": {
   "codemirror_mode": {
    "name": "ipython",
    "version": 3
   },
   "file_extension": ".py",
   "mimetype": "text/x-python",
   "name": "python",
   "nbconvert_exporter": "python",
   "pygments_lexer": "ipython3",
   "version": "3.6.13"
  }
 },
 "nbformat": 4,
 "nbformat_minor": 5
}
